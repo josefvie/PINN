{
 "cells": [
  {
   "cell_type": "code",
   "execution_count": 8,
   "metadata": {},
   "outputs": [
    {
     "name": "stdout",
     "output_type": "stream",
     "text": [
      "cpu\n"
     ]
    },
    {
     "name": "stderr",
     "output_type": "stream",
     "text": [
      "c:\\Users\\natsc\\anaconda3\\lib\\site-packages\\torch\\__init__.py:1144: UserWarning: torch.set_default_tensor_type() is deprecated as of PyTorch 2.1, please use torch.set_default_dtype() and torch.set_default_device() as alternatives. (Triggered internally at C:\\actions-runner\\_work\\pytorch\\pytorch\\builder\\windows\\pytorch\\torch\\csrc\\tensor\\python_tensor.cpp:434.)\n",
      "  _C._set_default_tensor_type(t)\n"
     ]
    }
   ],
   "source": [
    "import numpy as np\n",
    "import time\n",
    "import torch\n",
    "import torch.optim as optim\n",
    "import matplotlib.pyplot as plt\n",
    "import pandas as pd\n",
    "from utils import trainingData, testingData\n",
    "import os\n",
    "\n",
    "device = torch.device('cuda' if torch.cuda.is_available() else 'cpu')\n",
    "torch.set_default_tensor_type(torch.DoubleTensor)\n",
    "print(device)\n",
    "\n",
    "if device == 'cuda': \n",
    "    print(torch.cuda.get_device_name()) \n",
    "    \n",
    "lb = np.array([-2, -2])\n",
    "ub = np.array([2, 2])\n",
    "\n",
    "num_bc = 50\n",
    "num_f= 5000\n",
    "\n",
    "import argparse\n",
    "parser = argparse.ArgumentParser(description='Enter the parameters')\n",
    "parser.add_argument('-tol','--tol', help='relative tolerance for GMRES', type = float, required=True)\n",
    "parser.add_argument('-atol','--atol', help='absolute tolerance for GMRES', type = float, required=True)\n",
    "parser.add_argument('-g_iter','--g_iter', help='maximum iteration within GMRES', type = int, required=True)\n",
    "args = parser.parse_args([\"--tol\",\"5e-4\",'--atol',\"5e-4\",'--g_iter',\"5000\"])\n",
    "\n",
    "#args = parser.parse_args([\"--lrmax\",\"5e-4\",'--lrmin',\"5e-4\",'--pinn',\"3\",\"5\",'--dis','4',\"50\"])\n",
    "tol = args.tol\n",
    "atol = args.atol\n",
    "g_iter = args.g_iter\n",
    "\n",
    "tol = 1e-7\n",
    "atol = 1e-20\n",
    "g_iter =  10\n",
    "# '\n",
    "path = f\"Poisson/output/1_dis_GACGD_tol_{tol}_atol_{atol}_g_iter_{g_iter}\"\n",
    "\n",
    "# isDirectory = os.path.isdir(path)\n",
    "\n",
    "# if not os.path.isdir(path):\n",
    "#     os.makedirs(path)\n",
    "    \n",
    "if not os.path.isdir(path + \"/history\"):\n",
    "    os.makedirs(path + \"/history\")\n",
    "    \n",
    "if not os.path.isdir(path + \"/zz\"):\n",
    "    os.makedirs(path + \"/zz\")\n",
    "    \n",
    "# if not os.path.isdir(path + \"/prediction\"):\n",
    "#     os.makedirs(path + \"/prediction\")'\n",
    "        \n",
    "        \n",
    "        \n",
    "u = lambda xy: np.sin(xy[:, 0]) * np.cos([xy[:, 1]]) # this cannot be a torch function, otherwise the gradient would be recorded\n",
    "f = lambda x, y: -2 * np.sin(x) * np.cos(y) #torch->np \n",
    "  \n",
    "\n",
    "RNG_key = 3\n",
    "\n",
    "all_xy_train, xy_bc, u_bc, xy_inside, f_xy = trainingData(lb, ub, num_bc, num_f, u, f, RNG_key)\n",
    "\n",
    "u_test_method = lambda x, y: np.sin(x) * np.cos(y) #takes 2 inputs, but should return same values as previous u\n",
    "x_test, y_test, xy_test, u_test, f_test, X, Y, U = testingData(lb, ub, u_test_method, f, 256)\n",
    "\n",
    "\n",
    "\n"
   ]
  },
  {
   "cell_type": "code",
   "execution_count": null,
   "metadata": {},
   "outputs": [],
   "source": []
  },
  {
   "cell_type": "markdown",
   "metadata": {},
   "source": [
    "initialize networks"
   ]
  },
  {
   "cell_type": "code",
   "execution_count": 9,
   "metadata": {},
   "outputs": [
    {
     "name": "stdout",
     "output_type": "stream",
     "text": [
      "PINN_Poisson_2d(\n",
      "  (activation): Tanh()\n",
      "  (loss_function): MSELoss()\n",
      "  (linears): ModuleList(\n",
      "    (0): Linear(in_features=2, out_features=50, bias=True)\n",
      "    (1-2): 2 x Linear(in_features=50, out_features=50, bias=True)\n",
      "    (3): Linear(in_features=50, out_features=1, bias=True)\n",
      "  )\n",
      ")\n",
      "Discriminator(\n",
      "  (map): Sequential(\n",
      "    (0): Linear(in_features=2, out_features=100, bias=True)\n",
      "    (1): ReLU()\n",
      "    (2): Linear(in_features=100, out_features=100, bias=True)\n",
      "    (3): ReLU()\n",
      "    (4): Linear(in_features=100, out_features=100, bias=True)\n",
      "    (5): ReLU()\n",
      "    (6): Linear(in_features=100, out_features=100, bias=True)\n",
      "    (7): ReLU()\n",
      "    (8): Linear(in_features=100, out_features=2, bias=True)\n",
      "  )\n",
      ")\n"
     ]
    }
   ],
   "source": [
    "import networks\n",
    "layers = np.array([2,50 ,50, 50,1])\n",
    "\n",
    "\n",
    "'ACGD Optimizer'\n",
    "import CGDs\n",
    "from training import trainACGD\n",
    "\n",
    "PINNGACGD = networks.PINN_Poisson_2d(layers, x_test, y_test, u_test, f_test,\n",
    "                                xy_bc[:,[0]], xy_bc[:,[1]], u_bc, \n",
    "                                f_xy, xy_inside[:,[0]], xy_inside[:,[1]], RNG_key)\n",
    "\n",
    "PINNGACGD.to(device)\n",
    "\n",
    "\n",
    "D_GACGD = networks.Discriminator(2, 50 ,2)\n",
    "D_GACGD.to(device)\n",
    "\n",
    "print(PINNGACGD)\n",
    "print(D_GACGD)\n",
    "\n",
    "lr = 0.001\n",
    "\n",
    "track_cond = lambda x, y:  True\n",
    "optimizer = CGDs.GACGD(x_params=D_GACGD.parameters(), y_params = PINNGACGD.parameters(), max_iter = g_iter,\n",
    "            lr_x=lr, lr_y=lr, tol=tol, atol = atol, eps=1e-8, beta=0.99, track_cond = track_cond)\n",
    "\n",
    "\n"
   ]
  },
  {
   "cell_type": "code",
   "execution_count": 10,
   "metadata": {},
   "outputs": [],
   "source": [
    "optimizer = ACGD(max_params=D_GACGD.parameters(), min_params = PINNGACGD.parameters(),\n",
    "            lr_max=lr, lr_min=lr, tol=tol, atol = atol, eps=1e-8, beta=0.99)# track_cond = track_cond)"
   ]
  },
  {
   "cell_type": "code",
   "execution_count": 17,
   "metadata": {},
   "outputs": [
    {
     "ename": "RuntimeError",
     "evalue": "The size of tensor a (30802) must match the size of tensor b (5301) at non-singleton dimension 0",
     "output_type": "error",
     "traceback": [
      "\u001b[1;31m---------------------------------------------------------------------------\u001b[0m",
      "\u001b[1;31mRuntimeError\u001b[0m                              Traceback (most recent call last)",
      "Cell \u001b[1;32mIn[17], line 150\u001b[0m\n\u001b[0;32m    147\u001b[0m             \u001b[38;5;28mself\u001b[39m\u001b[38;5;241m.\u001b[39minfo\u001b[38;5;241m.\u001b[39mupdate({\u001b[38;5;124m'\u001b[39m\u001b[38;5;124mgrad_x\u001b[39m\u001b[38;5;124m'\u001b[39m: norm_gx, \u001b[38;5;124m'\u001b[39m\u001b[38;5;124mgrad_y\u001b[39m\u001b[38;5;124m'\u001b[39m: norm_gy,\n\u001b[0;32m    148\u001b[0m                               \u001b[38;5;124m'\u001b[39m\u001b[38;5;124mcg_x\u001b[39m\u001b[38;5;124m'\u001b[39m: norm_cgx, \u001b[38;5;124m'\u001b[39m\u001b[38;5;124mcg_y\u001b[39m\u001b[38;5;124m'\u001b[39m: norm_cgy})\n\u001b[0;32m    149\u001b[0m         \u001b[38;5;28mself\u001b[39m\u001b[38;5;241m.\u001b[39mstate[\u001b[38;5;124m'\u001b[39m\u001b[38;5;124msolve_x\u001b[39m\u001b[38;5;124m'\u001b[39m] \u001b[38;5;241m=\u001b[39m \u001b[38;5;28;01mFalse\u001b[39;00m \u001b[38;5;28;01mif\u001b[39;00m \u001b[38;5;28mself\u001b[39m\u001b[38;5;241m.\u001b[39mstate[\u001b[38;5;124m'\u001b[39m\u001b[38;5;124msolve_x\u001b[39m\u001b[38;5;124m'\u001b[39m] \u001b[38;5;28;01melse\u001b[39;00m \u001b[38;5;28;01mTrue\u001b[39;00m\n\u001b[1;32m--> 150\u001b[0m \u001b[43moptimizer\u001b[49m\u001b[38;5;241;43m.\u001b[39;49m\u001b[43mstep\u001b[49m\u001b[43m(\u001b[49m\u001b[43mloss_y\u001b[49m\u001b[43m,\u001b[49m\u001b[43m \u001b[49m\u001b[38;5;241;43m0\u001b[39;49m\u001b[43m)\u001b[49m\n",
      "Cell \u001b[1;32mIn[11], line 111\u001b[0m, in \u001b[0;36mACGD.step\u001b[1;34m(self, loss, trigger)\u001b[0m\n\u001b[0;32m    106\u001b[0m          timer \u001b[38;5;241m=\u001b[39m time\u001b[38;5;241m.\u001b[39mtime()\n\u001b[0;32m    108\u001b[0m \u001b[38;5;66;03m#     if self.state['solve_x']:\u001b[39;00m\n\u001b[0;32m    109\u001b[0m      \u001b[38;5;66;03m#p_y.mul_(lr_min.sqrt())\u001b[39;00m\n\u001b[0;32m    110\u001b[0m      \u001b[38;5;66;03m#old_min = cg_y.detach_()\u001b[39;00m\n\u001b[1;32m--> 111\u001b[0m      min_update \u001b[38;5;241m=\u001b[39m \u001b[43mp_x\u001b[49m\u001b[38;5;241;43m.\u001b[39;49m\u001b[43mmul\u001b[49m\u001b[43m(\u001b[49m\u001b[43m \u001b[49m\u001b[43mlr_min\u001b[49m\u001b[43m)\u001b[49m\n\u001b[0;32m    112\u001b[0m      max_update \u001b[38;5;241m=\u001b[39m p_y\u001b[38;5;241m.\u001b[39mmul(lr_max)\n\u001b[0;32m    113\u001b[0m      old_max \u001b[38;5;241m=\u001b[39m p_y\u001b[38;5;241m.\u001b[39mmul(lr_max\u001b[38;5;241m.\u001b[39msqrt())\n",
      "\u001b[1;31mRuntimeError\u001b[0m: The size of tensor a (30802) must match the size of tensor b (5301) at non-singleton dimension 0"
     ]
    }
   ],
   "source": [
    "import time\n",
    "import math\n",
    "import torch\n",
    "import torch.autograd as autograd\n",
    "\n",
    "from CGDs.distributed import reduce_mean\n",
    "\n",
    "from CGDs.cgd_utils import zero_grad, general_conjugate_gradient, Hvp_vec\n",
    "\n",
    "\n",
    "class ACGD(object):\n",
    "    def __init__(self, max_params, min_params,\n",
    "                 max_reducer=None, min_reducer=None,\n",
    "                 lr_max=1e-3, lr_min=1e-3,\n",
    "                 eps=1e-5, beta=0.99,\n",
    "                 tol=1e-12, atol=1e-20,\n",
    "                 solve_x=False, collect_info=False):\n",
    "        self.max_reducer = max_reducer\n",
    "        self.min_reducer = min_reducer\n",
    "        self.max_params = list(max_params)\n",
    "        self.min_params = list(min_params)\n",
    "        self.state = {'lr_max': lr_max, 'lr_min': lr_min,\n",
    "                      'eps': eps, 'solve_x': solve_x,\n",
    "                      'tol': tol, 'atol': atol,\n",
    "                      'beta': beta, 'step': 0,\n",
    "                      'old_max': None, 'old_min': None,  # start point of CG\n",
    "                      'sq_exp_avg_max': None, 'sq_exp_avg_min': None}  # save last update\n",
    "        self.info = {'grad_x': None, 'grad_y': None,\n",
    "                     'hvp_x': None, 'hvp_y': None,\n",
    "                     'cg_x': None, 'cg_y': None,\n",
    "                     'time': 0, 'iter_num': 0}\n",
    "        self.collect_info = collect_info\n",
    "\n",
    "    def zero_grad(self):\n",
    "        zero_grad(self.max_params)\n",
    "        zero_grad(self.min_params)\n",
    "\n",
    "    def get_info(self):\n",
    "        if self.info['grad_x'] is None:\n",
    "            print('Warning! No update information stored. Set collect_info=True before call this method')\n",
    "        return self.info\n",
    "\n",
    "    def state_dict(self):\n",
    "        return self.state\n",
    "\n",
    "    def load_state_dict(self, state_dict):\n",
    "        self.state.update(state_dict)\n",
    "        print('Load state: {}'.format(state_dict))\n",
    "\n",
    "    def set_lr(self, lr_max, lr_min):\n",
    "        self.state.update({'lr_max': lr_max, 'lr_min': lr_min})\n",
    "        print('Maximizing side learning rate: {:.4f}\\n '\n",
    "              'Minimizing side learning rate: {:.4f}'.format(lr_max, lr_min))\n",
    "\n",
    "    def step(self, loss, trigger=0.0):\n",
    "        '''\n",
    "        '''\n",
    "        lr_max = self.state['lr_max']\n",
    "        lr_min = self.state['lr_min']\n",
    "        beta = self.state['beta']\n",
    "        eps = self.state['eps']\n",
    "        tol = self.state['tol']\n",
    "        atol = self.state['atol']\n",
    "        time_step = self.state['step'] + 1\n",
    "        self.state['step'] = time_step\n",
    "        should_rebuild = time_step < 2\n",
    "\n",
    "        grad_x = autograd.grad(loss, self.max_params, create_graph=True)\n",
    "        grad_x_vec = torch.cat([g.contiguous().view(-1) for g in grad_x])\n",
    "        grad_y = autograd.grad(loss, self.min_params, create_graph=True)\n",
    "        grad_y_vec = torch.cat([g.contiguous().view(-1) for g in grad_y])\n",
    "\n",
    "        grad_x_vec_d = grad_x_vec.clone().detach()\n",
    "        grad_y_vec_d = grad_y_vec.clone().detach()\n",
    "        # reduce leaf nodes across all devices\n",
    "        grad_x_vec_d = reduce_mean(grad_x_vec_d)\n",
    "        grad_y_vec_d = reduce_mean(grad_y_vec_d)\n",
    "\n",
    "        sq_avg_x = self.state['sq_exp_avg_max']\n",
    "        sq_avg_y = self.state['sq_exp_avg_min']\n",
    "        sq_avg_x = torch.zeros_like(grad_x_vec_d, requires_grad=False) if sq_avg_x is None else sq_avg_x\n",
    "        sq_avg_y = torch.zeros_like(grad_y_vec_d, requires_grad=False) if sq_avg_y is None else sq_avg_y\n",
    "        sq_avg_x.mul_(beta).addcmul_(grad_x_vec_d, grad_x_vec_d, value=1-beta)\n",
    "        sq_avg_y.mul_(beta).addcmul_(grad_y_vec_d, grad_y_vec_d, value=1-beta)\n",
    "\n",
    "        bias_correction = 1 - beta ** time_step\n",
    "        lr_max = math.sqrt(bias_correction) * lr_max / sq_avg_x.sqrt().add(eps)\n",
    "        lr_min = math.sqrt(bias_correction) * lr_min / sq_avg_y.sqrt().add(eps)\n",
    "\n",
    "        scaled_grad_x = torch.mul(lr_max, grad_x_vec_d)\n",
    "        scaled_grad_y = torch.mul(lr_min, grad_y_vec_d)\n",
    "\n",
    "        hvp_x_vec = Hvp_vec(grad_y_vec, self.max_params, scaled_grad_y,\n",
    "                            retain_graph=True,\n",
    "                            trigger=trigger,\n",
    "                            rebuild=should_rebuild)  # h_xy * d_y\n",
    "        hvp_y_vec = Hvp_vec(grad_x_vec, self.min_params, scaled_grad_x,\n",
    "                            retain_graph=True,\n",
    "                            trigger=trigger,\n",
    "                            rebuild=should_rebuild)  # h_yx * d_x\n",
    "        p_x = torch.add(grad_x_vec_d, - hvp_x_vec)\n",
    "        p_y = torch.add(grad_y_vec_d, - hvp_y_vec)\n",
    "        if self.collect_info:\n",
    "            norm_px = torch.norm(hvp_x_vec, p=2).item()\n",
    "            norm_py = torch.norm(hvp_y_vec, p=2).item()\n",
    "            timer = time.time()\n",
    "\n",
    "   #     if self.state['solve_x']:\n",
    "        #p_y.mul_(lr_min.sqrt())\n",
    "        #old_min = cg_y.detach_()\n",
    "        min_update = p_x.mul( lr_min)\n",
    "        max_update = p_y.mul(lr_max)\n",
    "        old_max = p_y.mul(lr_max.sqrt())\n",
    "        old_min = p_x.mul(lr_min.sqrt())\n",
    "        # else:\n",
    "        #     p_x.mul_(lr_max.sqrt())\n",
    "        #     old_max = cg_x.detach_()\n",
    "        #     max_update = cg_x.mul(lr_max.sqrt())\n",
    "        #     min_update = hcg.mul(- lr_min)\n",
    "        #     old_min = hcg.mul(lr_min.sqrt())\n",
    "        self.state.update({'old_max': old_max, 'old_min': old_min,\n",
    "                           'sq_exp_avg_max': sq_avg_x, 'sq_exp_avg_min': sq_avg_y})\n",
    "\n",
    "        if self.collect_info:\n",
    "            timer = time.time() - timer\n",
    "            self.info.update({'time': timer, #'iter_num': iter_num,\n",
    "                              'hvp_x': norm_px, 'hvp_y': norm_py})\n",
    "\n",
    "        with torch.no_grad():\n",
    "            index = 0\n",
    "            for p in self.max_params:\n",
    "                p.data.add_(max_update[index: index + p.numel()].reshape(p.shape))\n",
    "                index += p.numel()\n",
    "            assert index == max_update.numel(), 'Maximizer CG size mismatch'\n",
    "\n",
    "            index = 0\n",
    "            for p in self.min_params:\n",
    "                p.data.add_(min_update[index: index + p.numel()].reshape(p.shape))\n",
    "                index += p.numel()\n",
    "            assert index == min_update.numel(), 'Minimizer CG size mismatch'\n",
    "\n",
    "        if self.collect_info:\n",
    "            norm_gx = torch.norm(grad_x_vec, p=2).item()\n",
    "            norm_gy = torch.norm(grad_y_vec, p=2).item()\n",
    "            norm_cgx = torch.norm(max_update, p=2).item()\n",
    "            norm_cgy = torch.norm(min_update, p=2).item()\n",
    "            self.info.update({'grad_x': norm_gx, 'grad_y': norm_gy,\n",
    "                              'cg_x': norm_cgx, 'cg_y': norm_cgy})\n",
    "        self.state['solve_x'] = False if self.state['solve_x'] else True\n"
   ]
  },
  {
   "cell_type": "markdown",
   "metadata": {},
   "source": [
    "forward passes (2 ( CGD) + 5 * 2 (GERM)) + maxiter"
   ]
  },
  {
   "cell_type": "markdown",
   "metadata": {},
   "source": [
    "forward passes() (2* CGD + 1000 *2) Germ +"
   ]
  },
  {
   "cell_type": "markdown",
   "metadata": {},
   "source": [
    "optimales germ"
   ]
  },
  {
   "cell_type": "code",
   "execution_count": 12,
   "metadata": {},
   "outputs": [
    {
     "data": {
      "text/plain": [
       "8333.333333333334"
      ]
     },
     "execution_count": 12,
     "metadata": {},
     "output_type": "execute_result"
    }
   ],
   "source": [
    "10 ** 5 / 12"
   ]
  },
  {
   "cell_type": "code",
   "execution_count": 13,
   "metadata": {},
   "outputs": [
    {
     "data": {
      "text/plain": [
       "5882.35294117647"
      ]
     },
     "execution_count": 13,
     "metadata": {},
     "output_type": "execute_result"
    }
   ],
   "source": [
    "10 ** 5 / ( 17)"
   ]
  },
  {
   "cell_type": "code",
   "execution_count": 14,
   "metadata": {},
   "outputs": [
    {
     "data": {
      "text/plain": [
       "150000"
      ]
     },
     "execution_count": 14,
     "metadata": {},
     "output_type": "execute_result"
    }
   ],
   "source": [
    "15 * 10000 "
   ]
  },
  {
   "cell_type": "code",
   "execution_count": 15,
   "metadata": {},
   "outputs": [
    {
     "data": {
      "text/plain": [
       "416.6666666666667"
      ]
     },
     "execution_count": 15,
     "metadata": {},
     "output_type": "execute_result"
    }
   ],
   "source": [
    "5000 / 12"
   ]
  },
  {
   "cell_type": "code",
   "execution_count": 16,
   "metadata": {},
   "outputs": [
    {
     "ename": "RuntimeError",
     "evalue": "The size of tensor a (30802) must match the size of tensor b (5301) at non-singleton dimension 0",
     "output_type": "error",
     "traceback": [
      "\u001b[1;31m---------------------------------------------------------------------------\u001b[0m",
      "\u001b[1;31mRuntimeError\u001b[0m                              Traceback (most recent call last)",
      "Cell \u001b[1;32mIn[16], line 26\u001b[0m\n\u001b[0;32m     24\u001b[0m loss_x \u001b[38;5;241m=\u001b[39m \u001b[38;5;241m-\u001b[39mloss_y\n\u001b[0;32m     25\u001b[0m \u001b[38;5;66;03m#optimizer.step(loss_x, loss_y, 0) #breaks at first step() call\u001b[39;00m\n\u001b[1;32m---> 26\u001b[0m \u001b[43moptimizer\u001b[49m\u001b[38;5;241;43m.\u001b[39;49m\u001b[43mstep\u001b[49m\u001b[43m(\u001b[49m\u001b[43mloss_y\u001b[49m\u001b[43m,\u001b[49m\u001b[43m \u001b[49m\u001b[38;5;241;43m0\u001b[39;49m\u001b[43m)\u001b[49m\n\u001b[0;32m     27\u001b[0m \u001b[38;5;28mprint\u001b[39m(e) \n\u001b[0;32m     28\u001b[0m gmre\u001b[38;5;241m.\u001b[39mappend(optimizer\u001b[38;5;241m.\u001b[39minfo[\u001b[38;5;124m'\u001b[39m\u001b[38;5;124mnum_iter\u001b[39m\u001b[38;5;124m'\u001b[39m])\n",
      "Cell \u001b[1;32mIn[11], line 111\u001b[0m, in \u001b[0;36mACGD.step\u001b[1;34m(self, loss, trigger)\u001b[0m\n\u001b[0;32m    106\u001b[0m          timer \u001b[38;5;241m=\u001b[39m time\u001b[38;5;241m.\u001b[39mtime()\n\u001b[0;32m    108\u001b[0m \u001b[38;5;66;03m#     if self.state['solve_x']:\u001b[39;00m\n\u001b[0;32m    109\u001b[0m      \u001b[38;5;66;03m#p_y.mul_(lr_min.sqrt())\u001b[39;00m\n\u001b[0;32m    110\u001b[0m      \u001b[38;5;66;03m#old_min = cg_y.detach_()\u001b[39;00m\n\u001b[1;32m--> 111\u001b[0m      min_update \u001b[38;5;241m=\u001b[39m \u001b[43mp_x\u001b[49m\u001b[38;5;241;43m.\u001b[39;49m\u001b[43mmul\u001b[49m\u001b[43m(\u001b[49m\u001b[43m \u001b[49m\u001b[43mlr_min\u001b[49m\u001b[43m)\u001b[49m\n\u001b[0;32m    112\u001b[0m      max_update \u001b[38;5;241m=\u001b[39m p_y\u001b[38;5;241m.\u001b[39mmul(lr_max)\n\u001b[0;32m    113\u001b[0m      old_max \u001b[38;5;241m=\u001b[39m p_y\u001b[38;5;241m.\u001b[39mmul(lr_max\u001b[38;5;241m.\u001b[39msqrt())\n",
      "\u001b[1;31mRuntimeError\u001b[0m: The size of tensor a (30802) must match the size of tensor b (5301) at non-singleton dimension 0"
     ]
    }
   ],
   "source": [
    "max_iter = 833\n",
    "recordPer = 1\n",
    "savePer = 50\n",
    "graphPer = 0\n",
    "\n",
    "GACGDInfo = []\n",
    "iter_num_sum = 0\n",
    "start_time = time.time()\n",
    "\n",
    "ACGDInfo = pd.DataFrame()\n",
    "re_pinn = []\n",
    "gmre = []\n",
    "for e in range(max_iter):\n",
    "    optimizer.zero_grad()     # zeroes the gradient buffers of all parameters\n",
    "    D_output = D_GACGD(PINNGACGD.x_inside_train, PINNGACGD.y_inside_train) #output[0]=bc, output[1]=inside\n",
    "    g_pde_diff = PINNGACGD.test_PDE()\n",
    "\n",
    "    # Optimizer step\n",
    "    loss1 = D_output[:,[0]] * g_pde_diff\n",
    "    loss2 = D_GACGD(PINNGACGD.x_bc, PINNGACGD.y_bc)[:,[1]] * (PINNGACGD(PINNGACGD.x_bc, PINNGACGD.y_bc) - PINNGACGD.u_bc)\n",
    "\n",
    "    loss_y = loss1.mean() + loss2.mean()\n",
    "    \n",
    "    loss_x = -loss_y\n",
    "    #optimizer.step(loss_x, loss_y, 0) #breaks at first step() call\n",
    "    optimizer.step(loss_y, 0)\n",
    "    print(e) \n",
    "    gmre.append(optimizer.info['num_iter'])\n",
    "\n",
    "\n",
    "\n",
    "    iter_num_sum += optimizer.info[\"num_iter\"]\n",
    "    if e % recordPer == 0:\n",
    "        \n",
    "    #   losses.append(loss.item())\n",
    "        g_loss, loss_bc, g_pde_loss = PINNGACGD.loss()\n",
    "        error_vec, u_pred = PINNGACGD.test(graphPer != 0 and e % graphPer == 0)\n",
    "        re_pinn.append(g_loss.item())\n",
    "        ACGDInfo = ACGDInfo.append({\n",
    "        \"iter\": e,\n",
    "        \"L2 error\": error_vec,\n",
    "        \"PINN loss\": g_loss.item(),\n",
    "        #\"PINN BC loss\": loss_bc.item(),\n",
    "        #\"PINN PDE loss\": g_pde_loss.item(),\n",
    "        \"CPINN loss\": loss_y.item(),\n",
    "       # \"CPINN PDE loss\": loss1.mean().item(),\n",
    "        #\"CPINN BC loss\": loss2.mean().item(),\n",
    "        \"iter_num_sum\" : iter_num_sum\n",
    "        }, ignore_index = True)\n",
    "\n",
    "    if e % savePer == 0: \n",
    "        ACGDInfo.to_csv(f\"{path}/history/ACGDInfo_{e}.csv\")\n",
    "       # np.savetxt(f\"{path}/prediction/PINNPrediction_iter_{e}.csv\", u_pred)\n",
    "    #     torch.save({\n",
    "    #         \"PINN_state_dict\": PINNGACGD.state_dict(),\n",
    "    #         \"Discriminator_state_dict\": D_GACGD.state_dict(),\n",
    "    #         \"GACGD_optimizer_state_dict\" : optimizer.state_dict(),\n",
    "    #     }, f\"{path}/zz/GACGD_zz_iter_{e}.pt\")\n",
    "\n",
    "print(f\"Time: {time.time() - start_time}\")"
   ]
  },
  {
   "cell_type": "code",
   "execution_count": 29,
   "metadata": {},
   "outputs": [
    {
     "data": {
      "text/plain": [
       "12756"
      ]
     },
     "execution_count": 29,
     "metadata": {},
     "output_type": "execute_result"
    }
   ],
   "source": [
    "sum(gmre)"
   ]
  },
  {
   "cell_type": "markdown",
   "metadata": {},
   "source": [
    "forward passes"
   ]
  },
  {
   "cell_type": "code",
   "execution_count": 32,
   "metadata": {},
   "outputs": [
    {
     "data": {
      "text/plain": [
       "26112"
      ]
     },
     "execution_count": 32,
     "metadata": {},
     "output_type": "execute_result"
    }
   ],
   "source": [
    "300 * 2 + sum(gmre) *2"
   ]
  },
  {
   "cell_type": "code",
   "execution_count": null,
   "metadata": {},
   "outputs": [],
   "source": [
    "ACGDInfo.to_csv(f\"{path}/history/ACGDInfo_{e}.csv\")\n",
    "# np.savetxt(f\"{path}/prediction/PINNPrediction_iter_{e}.csv\", u_pred)\n",
    "torch.save({\n",
    "    \"PINN_state_dict\": PINNGACGD.state_dict(),\n",
    "    \"Discriminator_state_dict\": D_GACGD.state_dict(),\n",
    "    \"GACGD_optimizer_state_dict\" : optimizer.state_dict(),\n",
    "}, f\"{path}/zz/GACGD_zz_iter_{e}.pt\")"
   ]
  },
  {
   "cell_type": "code",
   "execution_count": 21,
   "metadata": {},
   "outputs": [
    {
     "data": {
      "text/plain": [
       "294.11764705882354"
      ]
     },
     "execution_count": 21,
     "metadata": {},
     "output_type": "execute_result"
    }
   ],
   "source": [
    "5000 / 17"
   ]
  },
  {
   "cell_type": "code",
   "execution_count": 8,
   "metadata": {},
   "outputs": [
    {
     "ename": "SyntaxError",
     "evalue": "invalid syntax (4036316084.py, line 2)",
     "output_type": "error",
     "traceback": [
      "\u001b[1;36m  Cell \u001b[1;32mIn[8], line 2\u001b[1;36m\u001b[0m\n\u001b[1;33m    GERM 1000 (2* CGD + 1000 *2)\u001b[0m\n\u001b[1;37m         ^\u001b[0m\n\u001b[1;31mSyntaxError\u001b[0m\u001b[1;31m:\u001b[0m invalid syntax\n"
     ]
    }
   ],
   "source": [
    "#\n",
    "#GERM 1000 (2* CGD + 1000 *2)"
   ]
  },
  {
   "cell_type": "code",
   "execution_count": 31,
   "metadata": {},
   "outputs": [],
   "source": []
  },
  {
   "cell_type": "code",
   "execution_count": 39,
   "metadata": {},
   "outputs": [],
   "source": [
    "# torch.save({\n",
    "#             \"PINN_state_dict\": PINNGACGD.state_dict(),\n",
    "#             \"Discriminator_state_dict\": D_GACGD.state_dict(),\n",
    "#             \"GACGD_optimizer_state_dict\" : optimizer.state_dict(),\n",
    "#         }, f\"{path}/zz/GACGD_zz_iter_{e}.pt\")"
   ]
  },
  {
   "cell_type": "code",
   "execution_count": 45,
   "metadata": {},
   "outputs": [],
   "source": [
    "# num = 2000\n",
    "# error_vec = np.linalg.norm((self.u_test.cpu().detach().numpy() - u_pred),2) / np.linalg.norm(self.u_test.cpu().detach().numpy(), 2)  # Relative L2 Norm of the error (Vector)"
   ]
  },
  {
   "cell_type": "code",
   "execution_count": null,
   "metadata": {},
   "outputs": [],
   "source": [
    "#z_1 = pd.read_csv(\"D:\\\\ARBEIT\\\\pinn\\\\CPINN\\\\Poisson\\\\Poisson\\\\output\\\\1_dis_GACGD_tol_1e-07_atol_1e-20_g_iter_1000\\\\history\\\\ACGDInfo_1576.csv\")"
   ]
  },
  {
   "cell_type": "code",
   "execution_count": 49,
   "metadata": {},
   "outputs": [],
   "source": [
    "\n",
    "def testingData(lb, ub, u, f, num):\n",
    "  device = torch.device('cuda' if torch.cuda.is_available() else 'cpu')\n",
    "\n",
    "  X=np.linspace(lb[0], ub[0], num)\n",
    "  Y=np.linspace(lb[1], ub[1], num)\n",
    "    \n",
    "  X, Y = np.meshgrid(X,Y) #X, Y are (256, 256) matrices\n",
    "\n",
    "  U = u(X*Y)\n",
    "  u_test = U.flatten('F')[:,None]\n",
    "  u_test = torch.from_numpy(u_test).to(device)\n",
    "  xy_test = np.hstack((X.flatten('F')[:,None], Y.flatten('F')[:,None]))\n",
    "  x_test = xy_test[:,[0]]\n",
    "  y_test = xy_test[:,[1]]\n",
    "  \n",
    "  f_test = f(xy_test[:,[0]], xy_test[:,[1]])\n",
    "  # f_test = torch.from_numpy(f_test).to(device)\n",
    "\n",
    "  # x_test = torch.from_numpy(xy_test[:,[0]]).to(device)\n",
    "  # y_test = torch.from_numpy(xy_test[:,[1]]).to(device)\n",
    "#   f_test = f(x_test, y_test)\n",
    "  return x_test, y_test, xy_test, u_test, f_test, X, Y, U"
   ]
  },
  {
   "cell_type": "code",
   "execution_count": 27,
   "metadata": {},
   "outputs": [],
   "source": [
    "hist = ACGDInfo['PINN loss']"
   ]
  },
  {
   "cell_type": "code",
   "execution_count": 46,
   "metadata": {},
   "outputs": [
    {
     "data": {
      "image/png": "[encoded data removed]",
      "text/plain": [
       "<Figure size 900x600 with 1 Axes>"
      ]
     },
     "metadata": {},
     "output_type": "display_data"
    }
   ],
   "source": [
    "fig = plt.figure(figsize=(9,6))\n",
    "ax = fig.add_subplot(111)\n",
    "ax.semilogy(range(len(hist)), hist,'k-')\n",
    "ax.set_xlabel('$n_{epoch}$')\n",
    "ax.set_ylabel('$\\\\phi_{n_{epoch}}$');"
   ]
  },
  {
   "cell_type": "code",
   "execution_count": 49,
   "metadata": {},
   "outputs": [
    {
     "data": {
      "text/plain": [
       "0   -0.008829\n",
       "1    0.059005\n",
       "2    0.126907\n",
       "3    0.137403\n",
       "4    0.012638\n",
       "5    0.002526\n",
       "Name: CPINN loss, dtype: float64"
      ]
     },
     "execution_count": 49,
     "metadata": {},
     "output_type": "execute_result"
    }
   ],
   "source": [
    "ACGDInfo[\"CPINN loss\"]"
   ]
  },
  {
   "cell_type": "code",
   "execution_count": 50,
   "metadata": {},
   "outputs": [],
   "source": [
    "def test(PINN):\n",
    "    device = torch.device('cuda' if torch.cuda.is_available() else 'cpu')\n",
    "    _x = PINN.x_test.clone()\n",
    "    _y = PINN.y_test.clone()\n",
    "    _x.requires_grad = True\n",
    "    _y.requires_grad = True\n",
    "    \n",
    "    u_pred = PINN.forward(_x, _y)\n",
    "    \n",
    "    test_size = int(np.sqrt(PINN.x_test.shape[0]))\n",
    "\n",
    "\n",
    "    u_pred = u_pred.cpu().detach().numpy()\n",
    "    \n",
    "    error_vec = np.linalg.norm((PINN.u_test.cpu().detach().numpy() - u_pred),2) / np.linalg.norm(PINN.u_test.cpu().detach().numpy(), 2)  # Relative L2 Norm of the error (Vector)\n",
    "    \n",
    "    u_pred = np.reshape(u_pred, (test_size, test_size), order='F')\n",
    "    u_test_graph = np.reshape(PINN.u_test.cpu().detach().numpy(),(test_size, test_size), order='F') # make u_test a matrix for graphing\n",
    "\n",
    "    return error_vec, u_pred"
   ]
  },
  {
   "cell_type": "markdown",
   "metadata": {},
   "source": [
    "#plot mit PiNN DISC LÖSUNG\n"
   ]
  },
  {
   "cell_type": "markdown",
   "metadata": {},
   "source": [
    "$\\| NN(x,y) -  u(x,y) \\|_2$"
   ]
  },
  {
   "cell_type": "code",
   "execution_count": 51,
   "metadata": {},
   "outputs": [
    {
     "data": {
      "text/plain": [
       "0.0038046154940228395"
      ]
     },
     "execution_count": 51,
     "metadata": {},
     "output_type": "execute_result"
    }
   ],
   "source": [
    "test(PINNGACGD)[0]"
   ]
  },
  {
   "cell_type": "code",
   "execution_count": null,
   "metadata": {},
   "outputs": [],
   "source": [
    "ACGDInfo['PINN loss']"
   ]
  },
  {
   "cell_type": "code",
   "execution_count": 1,
   "metadata": {},
   "outputs": [],
   "source": [
    "# gs1 = gridspec.GridSpec(1, 3)\n",
    "# gs1.update(top=1-1/3, bottom=0, left=0.1, right=0.9, wspace=0.5)\n",
    "\n",
    "# ax = plt.subplot(gs1[0, 0])\n",
    "# ax.plot(x,Exact_h[:,75], 'b-', linewidth = 2, label = 'Exact')       \n",
    "# ax.plot(x,H_pred[75,:], 'r--', linewidth = 2, label = 'Prediction')\n",
    "# ax.set_xlabel('$x$')\n",
    "# ax.set_ylabel('$|h(t,x)|$')    \n",
    "# #ax.set_title('$t = %.2f$' % (t[75]), fontsize = 10)\n",
    "# ax.axis('square')\n",
    "# ax.set_xlim([-5.1,5.1])\n",
    "# ax.set_ylim([-0.1,5.1])"
   ]
  },
  {
   "cell_type": "code",
   "execution_count": 2,
   "metadata": {},
   "outputs": [],
   "source": [
    "def test(PINN, graph = False):\n",
    "    device = torch.device('cuda' if torch.cuda.is_available() else 'cpu')\n",
    "    _x = PINN.x_test.clone()\n",
    "    _y = PINN.y_test.clone()\n",
    "    _x.requires_grad = True\n",
    "    _y.requires_grad = True\n",
    "    \n",
    "    u_pred = PINN.forward(_x, _y)\n",
    "    \n",
    "    u_x = torch.autograd.grad(u_pred,_x,torch.ones([_x.shape[0], 1]).to(device), retain_graph= True, create_graph=True)[0]      \n",
    "    u_y = torch.autograd.grad(u_pred,_y,torch.ones([_y.shape[0], 1]).to(device), retain_graph= True, create_graph=True)[0]\n",
    "\n",
    "    u_xx = torch.autograd.grad(u_x, _x, torch.ones((_x.shape[0], 1)).to(device) , retain_graph = True)[0]\n",
    "    u_yy = torch.autograd.grad(u_y, _y, torch.ones((_y.shape[0], 1)).to(device) , retain_graph = True)[0]\n",
    "\n",
    "    fxy_test = PINN.f_test\n",
    "    \n",
    "    #PDE = u_xx + u_yy - fxy_test\n",
    "    \n",
    "    test_size = int(math.sqrt(PINN.x_test.shape[0]))\n",
    "    \n",
    "    #PDE = PDE.cpu().detach().numpy()\n",
    "    \n",
    "   # PDE = np.reshape(PDE, (test_size, test_size), order='F') #PDE is a 256*256 matrix now\n",
    "\n",
    "    u_pred = u_pred.cpu().detach().numpy()\n",
    "    \n",
    "    error_vec = np.linalg.norm((PINN.u_test.cpu().detach().numpy() - u_pred),2) / np.linalg.norm(PINN.u_test.cpu().detach().numpy(), 2)  # Relative L2 Norm of the error (Vector)\n",
    "    \n",
    "    u_pred = np.reshape(u_pred, (test_size, test_size), order='F')\n",
    "    u_test_graph = np.reshape(PINN.u_test.cpu().detach().numpy(),(test_size, test_size), order='F') # make u_test a matrix for graphing\n",
    "    if (graph):\n",
    "        fig, ax = plt.subplots(1, 3,figsize=(30,4))\n",
    "        \n",
    "        im1 = ax[0].imshow(u_test_graph, interpolation='nearest', cmap='rainbow', \n",
    "#                       extent=[PINN.y_test.min(), PINN.y_test.max(), PINN.x_test.min(), PINN.x_test.max()], \n",
    "                    origin='lower', aspect='equal')\n",
    "        fig.colorbar(im1, ax = ax[0])\n",
    "        \n",
    "        im2 = ax[1].imshow(u_pred, interpolation='nearest', cmap='rainbow', \n",
    "#                       extent=[PINN.y_test.min(), PINN.y_test.max(), PINN.x_test.min(), PINN.x_test.max()], \n",
    "                    origin='lower', aspect='equal')\n",
    "        fig.colorbar(im2, ax = ax[1])\n",
    "        \n",
    "        im3 = ax[2].imshow(u_pred - u_test_graph, interpolation='nearest', cmap='bwr', \n",
    "#                       extent=[PINN.y_test.min(), PINN.y_test.max(), PINN.x_test.min(), PINN.x_test.max()], \n",
    "                    origin='lower', aspect='equal')\n",
    "        fig.colorbar(im3, ax=ax[2])\n",
    "        \n",
    "#         im4 = ax[3].imshow(PDE, interpolation='nearest', cmap='bwr', \n",
    "# #                       extent=[PINN.y_test.min(), PINN.y_test.max(), PINN.x_test.min(), PINN.x_test.max()], \n",
    "#                     origin='lower', aspect='equal')\n",
    "\n",
    "\n",
    "        ax[0].set_title('True $u(x,y)$', fontsize = 10)\n",
    "        ax[1].set_title('Predicted $u(x,y)$', fontsize = 10)\n",
    "        ax[2].set_title('Difference', fontsize = 10)\n",
    "       # ax[3].set_title('PDE diff', fontsize = 10)\n",
    "\n",
    "        fig.colorbar(im4, ax = ax[3])\n",
    "        plt.show()\n",
    "    return error_vec, u_pred"
   ]
  },
  {
   "cell_type": "code",
   "execution_count": null,
   "metadata": {},
   "outputs": [],
   "source": [
    "import math\n",
    "test(PINNGACGD,True)"
   ]
  }
 ],
 "metadata": {
  "kernelspec": {
   "display_name": "base",
   "language": "python",
   "name": "python3"
  },
  "language_info": {
   "codemirror_mode": {
    "name": "ipython",
    "version": 3
   },
   "file_extension": ".py",
   "mimetype": "text/x-python",
   "name": "python",
   "nbconvert_exporter": "python",
   "pygments_lexer": "ipython3",
   "version": "3.9.20"
  }
 },
 "nbformat": 4,
 "nbformat_minor": 2
}
